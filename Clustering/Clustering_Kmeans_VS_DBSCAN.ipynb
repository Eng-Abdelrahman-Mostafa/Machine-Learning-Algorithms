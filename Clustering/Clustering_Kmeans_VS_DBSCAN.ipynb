{
 "nbformat": 4,
 "nbformat_minor": 0,
 "metadata": {
  "colab": {
   "provenance": []
  },
  "kernelspec": {
   "name": "python3",
   "display_name": "Python 3 (ipykernel)",
   "language": "python"
  },
  "language_info": {
   "name": "python"
  }
 },
 "cells": [
  {
   "cell_type": "code",
   "metadata": {
    "id": "RfF3PorEOs-r",
    "ExecuteTime": {
     "end_time": "2024-12-18T08:29:48.038287Z",
     "start_time": "2024-12-18T08:29:46.768675Z"
    }
   },
   "source": [
    "from sklearn.cluster import KMeans,DBSCAN\n",
    "import pandas as pd\n",
    "from sklearn.preprocessing import MinMaxScaler\n",
    "from matplotlib import pyplot as plt\n",
    "import numpy as np\n",
    "%matplotlib inline"
   ],
   "outputs": [],
   "execution_count": 1
  },
  {
   "cell_type": "code",
   "source": [
    "df = pd.read_csv(\"Credit Card Customer Data.csv\")\n",
    "df.head()"
   ],
   "metadata": {
    "colab": {
     "base_uri": "https://localhost:8080/",
     "height": 262
    },
    "id": "RSGikkH0OzRC",
    "outputId": "ccf416e5-3c2f-43c2-f2d8-0add695b8d99",
    "ExecuteTime": {
     "end_time": "2024-12-18T08:29:51.381761Z",
     "start_time": "2024-12-18T08:29:51.357126Z"
    }
   },
   "outputs": [
    {
     "data": {
      "text/plain": [
       "   Sl_No  Customer Key  Avg_Credit_Limit  Total_Credit_Cards  \\\n",
       "0      1         87073            100000                   2   \n",
       "1      2         38414             50000                   3   \n",
       "2      3         17341             50000                   7   \n",
       "3      4         40496             30000                   5   \n",
       "4      5         47437            100000                   6   \n",
       "\n",
       "   Total_visits_bank  Total_visits_online  Total_calls_made  \n",
       "0                  1                    1                 0  \n",
       "1                  0                   10                 9  \n",
       "2                  1                    3                 4  \n",
       "3                  1                    1                 4  \n",
       "4                  0                   12                 3  "
      ],
      "text/html": [
       "<div>\n",
       "<style scoped>\n",
       "    .dataframe tbody tr th:only-of-type {\n",
       "        vertical-align: middle;\n",
       "    }\n",
       "\n",
       "    .dataframe tbody tr th {\n",
       "        vertical-align: top;\n",
       "    }\n",
       "\n",
       "    .dataframe thead th {\n",
       "        text-align: right;\n",
       "    }\n",
       "</style>\n",
       "<table border=\"1\" class=\"dataframe\">\n",
       "  <thead>\n",
       "    <tr style=\"text-align: right;\">\n",
       "      <th></th>\n",
       "      <th>Sl_No</th>\n",
       "      <th>Customer Key</th>\n",
       "      <th>Avg_Credit_Limit</th>\n",
       "      <th>Total_Credit_Cards</th>\n",
       "      <th>Total_visits_bank</th>\n",
       "      <th>Total_visits_online</th>\n",
       "      <th>Total_calls_made</th>\n",
       "    </tr>\n",
       "  </thead>\n",
       "  <tbody>\n",
       "    <tr>\n",
       "      <th>0</th>\n",
       "      <td>1</td>\n",
       "      <td>87073</td>\n",
       "      <td>100000</td>\n",
       "      <td>2</td>\n",
       "      <td>1</td>\n",
       "      <td>1</td>\n",
       "      <td>0</td>\n",
       "    </tr>\n",
       "    <tr>\n",
       "      <th>1</th>\n",
       "      <td>2</td>\n",
       "      <td>38414</td>\n",
       "      <td>50000</td>\n",
       "      <td>3</td>\n",
       "      <td>0</td>\n",
       "      <td>10</td>\n",
       "      <td>9</td>\n",
       "    </tr>\n",
       "    <tr>\n",
       "      <th>2</th>\n",
       "      <td>3</td>\n",
       "      <td>17341</td>\n",
       "      <td>50000</td>\n",
       "      <td>7</td>\n",
       "      <td>1</td>\n",
       "      <td>3</td>\n",
       "      <td>4</td>\n",
       "    </tr>\n",
       "    <tr>\n",
       "      <th>3</th>\n",
       "      <td>4</td>\n",
       "      <td>40496</td>\n",
       "      <td>30000</td>\n",
       "      <td>5</td>\n",
       "      <td>1</td>\n",
       "      <td>1</td>\n",
       "      <td>4</td>\n",
       "    </tr>\n",
       "    <tr>\n",
       "      <th>4</th>\n",
       "      <td>5</td>\n",
       "      <td>47437</td>\n",
       "      <td>100000</td>\n",
       "      <td>6</td>\n",
       "      <td>0</td>\n",
       "      <td>12</td>\n",
       "      <td>3</td>\n",
       "    </tr>\n",
       "  </tbody>\n",
       "</table>\n",
       "</div>"
      ]
     },
     "execution_count": 2,
     "metadata": {},
     "output_type": "execute_result"
    }
   ],
   "execution_count": 2
  },
  {
   "cell_type": "code",
   "source": [
    "df.drop(['Sl_No','Customer Key'] , axis = 1 , inplace = True)\n"
   ],
   "metadata": {
    "id": "SYWZFTMuO7tT",
    "ExecuteTime": {
     "end_time": "2024-12-18T08:29:54.712970Z",
     "start_time": "2024-12-18T08:29:54.707969Z"
    }
   },
   "outputs": [],
   "execution_count": 3
  },
  {
   "cell_type": "code",
   "source": [
    "df1 = pd.DataFrame(df, columns=['Avg_Credit_Limit', 'Total_Credit_Cards', 'Total_visits_bank', 'Total_visits_online', 'Total_calls_made'])\n",
    "df1\n"
   ],
   "metadata": {
    "colab": {
     "base_uri": "https://localhost:8080/",
     "height": 424
    },
    "id": "Z0RqklkVffON",
    "outputId": "c755288e-6636-40a5-cb38-91ac9bea9fe5",
    "ExecuteTime": {
     "end_time": "2024-12-18T08:29:56.635606Z",
     "start_time": "2024-12-18T08:29:56.624578Z"
    }
   },
   "outputs": [
    {
     "data": {
      "text/plain": [
       "     Avg_Credit_Limit  Total_Credit_Cards  Total_visits_bank  \\\n",
       "0              100000                   2                  1   \n",
       "1               50000                   3                  0   \n",
       "2               50000                   7                  1   \n",
       "3               30000                   5                  1   \n",
       "4              100000                   6                  0   \n",
       "..                ...                 ...                ...   \n",
       "655             99000                  10                  1   \n",
       "656             84000                  10                  1   \n",
       "657            145000                   8                  1   \n",
       "658            172000                  10                  1   \n",
       "659            167000                   9                  0   \n",
       "\n",
       "     Total_visits_online  Total_calls_made  \n",
       "0                      1                 0  \n",
       "1                     10                 9  \n",
       "2                      3                 4  \n",
       "3                      1                 4  \n",
       "4                     12                 3  \n",
       "..                   ...               ...  \n",
       "655                   10                 0  \n",
       "656                   13                 2  \n",
       "657                    9                 1  \n",
       "658                   15                 0  \n",
       "659                   12                 2  \n",
       "\n",
       "[660 rows x 5 columns]"
      ],
      "text/html": [
       "<div>\n",
       "<style scoped>\n",
       "    .dataframe tbody tr th:only-of-type {\n",
       "        vertical-align: middle;\n",
       "    }\n",
       "\n",
       "    .dataframe tbody tr th {\n",
       "        vertical-align: top;\n",
       "    }\n",
       "\n",
       "    .dataframe thead th {\n",
       "        text-align: right;\n",
       "    }\n",
       "</style>\n",
       "<table border=\"1\" class=\"dataframe\">\n",
       "  <thead>\n",
       "    <tr style=\"text-align: right;\">\n",
       "      <th></th>\n",
       "      <th>Avg_Credit_Limit</th>\n",
       "      <th>Total_Credit_Cards</th>\n",
       "      <th>Total_visits_bank</th>\n",
       "      <th>Total_visits_online</th>\n",
       "      <th>Total_calls_made</th>\n",
       "    </tr>\n",
       "  </thead>\n",
       "  <tbody>\n",
       "    <tr>\n",
       "      <th>0</th>\n",
       "      <td>100000</td>\n",
       "      <td>2</td>\n",
       "      <td>1</td>\n",
       "      <td>1</td>\n",
       "      <td>0</td>\n",
       "    </tr>\n",
       "    <tr>\n",
       "      <th>1</th>\n",
       "      <td>50000</td>\n",
       "      <td>3</td>\n",
       "      <td>0</td>\n",
       "      <td>10</td>\n",
       "      <td>9</td>\n",
       "    </tr>\n",
       "    <tr>\n",
       "      <th>2</th>\n",
       "      <td>50000</td>\n",
       "      <td>7</td>\n",
       "      <td>1</td>\n",
       "      <td>3</td>\n",
       "      <td>4</td>\n",
       "    </tr>\n",
       "    <tr>\n",
       "      <th>3</th>\n",
       "      <td>30000</td>\n",
       "      <td>5</td>\n",
       "      <td>1</td>\n",
       "      <td>1</td>\n",
       "      <td>4</td>\n",
       "    </tr>\n",
       "    <tr>\n",
       "      <th>4</th>\n",
       "      <td>100000</td>\n",
       "      <td>6</td>\n",
       "      <td>0</td>\n",
       "      <td>12</td>\n",
       "      <td>3</td>\n",
       "    </tr>\n",
       "    <tr>\n",
       "      <th>...</th>\n",
       "      <td>...</td>\n",
       "      <td>...</td>\n",
       "      <td>...</td>\n",
       "      <td>...</td>\n",
       "      <td>...</td>\n",
       "    </tr>\n",
       "    <tr>\n",
       "      <th>655</th>\n",
       "      <td>99000</td>\n",
       "      <td>10</td>\n",
       "      <td>1</td>\n",
       "      <td>10</td>\n",
       "      <td>0</td>\n",
       "    </tr>\n",
       "    <tr>\n",
       "      <th>656</th>\n",
       "      <td>84000</td>\n",
       "      <td>10</td>\n",
       "      <td>1</td>\n",
       "      <td>13</td>\n",
       "      <td>2</td>\n",
       "    </tr>\n",
       "    <tr>\n",
       "      <th>657</th>\n",
       "      <td>145000</td>\n",
       "      <td>8</td>\n",
       "      <td>1</td>\n",
       "      <td>9</td>\n",
       "      <td>1</td>\n",
       "    </tr>\n",
       "    <tr>\n",
       "      <th>658</th>\n",
       "      <td>172000</td>\n",
       "      <td>10</td>\n",
       "      <td>1</td>\n",
       "      <td>15</td>\n",
       "      <td>0</td>\n",
       "    </tr>\n",
       "    <tr>\n",
       "      <th>659</th>\n",
       "      <td>167000</td>\n",
       "      <td>9</td>\n",
       "      <td>0</td>\n",
       "      <td>12</td>\n",
       "      <td>2</td>\n",
       "    </tr>\n",
       "  </tbody>\n",
       "</table>\n",
       "<p>660 rows × 5 columns</p>\n",
       "</div>"
      ]
     },
     "execution_count": 4,
     "metadata": {},
     "output_type": "execute_result"
    }
   ],
   "execution_count": 4
  },
  {
   "cell_type": "code",
   "source": [
    "scaler = MinMaxScaler()\n",
    "df1 = scaler.fit_transform(df[['Avg_Credit_Limit', 'Total_Credit_Cards', 'Total_visits_bank', 'Total_visits_online', 'Total_calls_made']])\n",
    "df1"
   ],
   "metadata": {
    "colab": {
     "base_uri": "https://localhost:8080/"
    },
    "id": "uj5_bDwMf2e5",
    "outputId": "b813ea4e-4782-4981-f6c4-ddbf43afedee",
    "ExecuteTime": {
     "end_time": "2024-12-18T08:29:59.351736Z",
     "start_time": "2024-12-18T08:29:59.342567Z"
    }
   },
   "outputs": [
    {
     "data": {
      "text/plain": [
       "array([[0.49238579, 0.11111111, 0.2       , 0.06666667, 0.        ],\n",
       "       [0.23857868, 0.22222222, 0.        , 0.66666667, 0.9       ],\n",
       "       [0.23857868, 0.66666667, 0.2       , 0.2       , 0.4       ],\n",
       "       ...,\n",
       "       [0.72081218, 0.77777778, 0.2       , 0.6       , 0.1       ],\n",
       "       [0.85786802, 1.        , 0.2       , 1.        , 0.        ],\n",
       "       [0.83248731, 0.88888889, 0.        , 0.8       , 0.2       ]])"
      ]
     },
     "execution_count": 5,
     "metadata": {},
     "output_type": "execute_result"
    }
   ],
   "execution_count": 5
  },
  {
   "cell_type": "code",
   "source": [
    "df1 = pd.DataFrame(df1, columns=['Avg_Credit_Limit', 'Total_Credit_Cards', 'Total_visits_bank', 'Total_visits_online', 'Total_calls_made'])\n",
    "df1"
   ],
   "metadata": {
    "colab": {
     "base_uri": "https://localhost:8080/",
     "height": 424
    },
    "id": "wdfb7KKiPmMY",
    "outputId": "6865d871-3ce2-4d3b-dd4d-ddc0c49c00a7",
    "ExecuteTime": {
     "end_time": "2024-12-18T08:30:02.056277Z",
     "start_time": "2024-12-18T08:30:02.041716Z"
    }
   },
   "outputs": [
    {
     "data": {
      "text/plain": [
       "     Avg_Credit_Limit  Total_Credit_Cards  Total_visits_bank  \\\n",
       "0            0.492386            0.111111                0.2   \n",
       "1            0.238579            0.222222                0.0   \n",
       "2            0.238579            0.666667                0.2   \n",
       "3            0.137056            0.444444                0.2   \n",
       "4            0.492386            0.555556                0.0   \n",
       "..                ...                 ...                ...   \n",
       "655          0.487310            1.000000                0.2   \n",
       "656          0.411168            1.000000                0.2   \n",
       "657          0.720812            0.777778                0.2   \n",
       "658          0.857868            1.000000                0.2   \n",
       "659          0.832487            0.888889                0.0   \n",
       "\n",
       "     Total_visits_online  Total_calls_made  \n",
       "0               0.066667               0.0  \n",
       "1               0.666667               0.9  \n",
       "2               0.200000               0.4  \n",
       "3               0.066667               0.4  \n",
       "4               0.800000               0.3  \n",
       "..                   ...               ...  \n",
       "655             0.666667               0.0  \n",
       "656             0.866667               0.2  \n",
       "657             0.600000               0.1  \n",
       "658             1.000000               0.0  \n",
       "659             0.800000               0.2  \n",
       "\n",
       "[660 rows x 5 columns]"
      ],
      "text/html": [
       "<div>\n",
       "<style scoped>\n",
       "    .dataframe tbody tr th:only-of-type {\n",
       "        vertical-align: middle;\n",
       "    }\n",
       "\n",
       "    .dataframe tbody tr th {\n",
       "        vertical-align: top;\n",
       "    }\n",
       "\n",
       "    .dataframe thead th {\n",
       "        text-align: right;\n",
       "    }\n",
       "</style>\n",
       "<table border=\"1\" class=\"dataframe\">\n",
       "  <thead>\n",
       "    <tr style=\"text-align: right;\">\n",
       "      <th></th>\n",
       "      <th>Avg_Credit_Limit</th>\n",
       "      <th>Total_Credit_Cards</th>\n",
       "      <th>Total_visits_bank</th>\n",
       "      <th>Total_visits_online</th>\n",
       "      <th>Total_calls_made</th>\n",
       "    </tr>\n",
       "  </thead>\n",
       "  <tbody>\n",
       "    <tr>\n",
       "      <th>0</th>\n",
       "      <td>0.492386</td>\n",
       "      <td>0.111111</td>\n",
       "      <td>0.2</td>\n",
       "      <td>0.066667</td>\n",
       "      <td>0.0</td>\n",
       "    </tr>\n",
       "    <tr>\n",
       "      <th>1</th>\n",
       "      <td>0.238579</td>\n",
       "      <td>0.222222</td>\n",
       "      <td>0.0</td>\n",
       "      <td>0.666667</td>\n",
       "      <td>0.9</td>\n",
       "    </tr>\n",
       "    <tr>\n",
       "      <th>2</th>\n",
       "      <td>0.238579</td>\n",
       "      <td>0.666667</td>\n",
       "      <td>0.2</td>\n",
       "      <td>0.200000</td>\n",
       "      <td>0.4</td>\n",
       "    </tr>\n",
       "    <tr>\n",
       "      <th>3</th>\n",
       "      <td>0.137056</td>\n",
       "      <td>0.444444</td>\n",
       "      <td>0.2</td>\n",
       "      <td>0.066667</td>\n",
       "      <td>0.4</td>\n",
       "    </tr>\n",
       "    <tr>\n",
       "      <th>4</th>\n",
       "      <td>0.492386</td>\n",
       "      <td>0.555556</td>\n",
       "      <td>0.0</td>\n",
       "      <td>0.800000</td>\n",
       "      <td>0.3</td>\n",
       "    </tr>\n",
       "    <tr>\n",
       "      <th>...</th>\n",
       "      <td>...</td>\n",
       "      <td>...</td>\n",
       "      <td>...</td>\n",
       "      <td>...</td>\n",
       "      <td>...</td>\n",
       "    </tr>\n",
       "    <tr>\n",
       "      <th>655</th>\n",
       "      <td>0.487310</td>\n",
       "      <td>1.000000</td>\n",
       "      <td>0.2</td>\n",
       "      <td>0.666667</td>\n",
       "      <td>0.0</td>\n",
       "    </tr>\n",
       "    <tr>\n",
       "      <th>656</th>\n",
       "      <td>0.411168</td>\n",
       "      <td>1.000000</td>\n",
       "      <td>0.2</td>\n",
       "      <td>0.866667</td>\n",
       "      <td>0.2</td>\n",
       "    </tr>\n",
       "    <tr>\n",
       "      <th>657</th>\n",
       "      <td>0.720812</td>\n",
       "      <td>0.777778</td>\n",
       "      <td>0.2</td>\n",
       "      <td>0.600000</td>\n",
       "      <td>0.1</td>\n",
       "    </tr>\n",
       "    <tr>\n",
       "      <th>658</th>\n",
       "      <td>0.857868</td>\n",
       "      <td>1.000000</td>\n",
       "      <td>0.2</td>\n",
       "      <td>1.000000</td>\n",
       "      <td>0.0</td>\n",
       "    </tr>\n",
       "    <tr>\n",
       "      <th>659</th>\n",
       "      <td>0.832487</td>\n",
       "      <td>0.888889</td>\n",
       "      <td>0.0</td>\n",
       "      <td>0.800000</td>\n",
       "      <td>0.2</td>\n",
       "    </tr>\n",
       "  </tbody>\n",
       "</table>\n",
       "<p>660 rows × 5 columns</p>\n",
       "</div>"
      ]
     },
     "execution_count": 6,
     "metadata": {},
     "output_type": "execute_result"
    }
   ],
   "execution_count": 6
  },
  {
   "cell_type": "code",
   "source": [
    "df2 = df1.iloc[:,[1,2]].values\n",
    "df2"
   ],
   "metadata": {
    "colab": {
     "base_uri": "https://localhost:8080/"
    },
    "id": "HPSga9JfhsvI",
    "outputId": "a183fdac-310c-452e-98a4-d1f9593a5489",
    "ExecuteTime": {
     "end_time": "2024-12-18T08:30:05.339236Z",
     "start_time": "2024-12-18T08:30:05.334041Z"
    }
   },
   "outputs": [
    {
     "data": {
      "text/plain": [
       "array([[0.11111111, 0.2       ],\n",
       "       [0.22222222, 0.        ],\n",
       "       [0.66666667, 0.2       ],\n",
       "       ...,\n",
       "       [0.77777778, 0.2       ],\n",
       "       [1.        , 0.2       ],\n",
       "       [0.88888889, 0.        ]])"
      ]
     },
     "execution_count": 7,
     "metadata": {},
     "output_type": "execute_result"
    }
   ],
   "execution_count": 7
  },
  {
   "cell_type": "code",
   "source": [
    "sse = []\n",
    "k_rng = range(1,10)\n",
    "for k in k_rng:\n",
    "    km = KMeans(n_clusters=k, random_state= 42)\n",
    "    km.fit(df2)\n",
    "    sse.append(km.inertia_)"
   ],
   "metadata": {
    "id": "AiUG5kKJPV45",
    "ExecuteTime": {
     "end_time": "2024-12-18T08:30:08.507848Z",
     "start_time": "2024-12-18T08:30:08.341605Z"
    }
   },
   "outputs": [],
   "execution_count": 8
  },
  {
   "cell_type": "code",
   "source": [
    "plt.figure(figsize=(8, 5))\n",
    "plt.plot(k_rng, sse, marker='o')\n",
    "plt.title('Elbow Method to Determine Optimal Clusters')\n",
    "plt.xlabel('Number of Clusters (K)')\n",
    "plt.ylabel('Sum of Squared Errors (SSE)')\n",
    "plt.grid()\n",
    "plt.show()"
   ],
   "metadata": {
    "colab": {
     "base_uri": "https://localhost:8080/",
     "height": 487
    },
    "id": "y-HXU8njP3DG",
    "outputId": "23e30ecf-6f3a-40b1-ddc1-3935fc1edfd8",
    "ExecuteTime": {
     "end_time": "2024-12-18T08:30:11.017584Z",
     "start_time": "2024-12-18T08:30:10.836876Z"
    }
   },
   "outputs": [
    {
     "data": {
      "text/plain": [
       "<Figure size 800x500 with 1 Axes>"
      ],
      "image/png": "[encoded data removed]"
     },
     "metadata": {},
     "output_type": "display_data"
    }
   ],
   "execution_count": 9
  },
  {
   "cell_type": "code",
   "source": [
    "km = KMeans(n_clusters=3)\n",
    "y_kmeans = km.fit_predict(df2)\n",
    "df['cluster'] = y_kmeans"
   ],
   "metadata": {
    "id": "vw5G1p9Pc8uo",
    "ExecuteTime": {
     "end_time": "2024-12-18T08:30:13.873917Z",
     "start_time": "2024-12-18T08:30:13.862752Z"
    }
   },
   "outputs": [],
   "execution_count": 10
  },
  {
   "cell_type": "code",
   "source": [
    "df.head()"
   ],
   "metadata": {
    "colab": {
     "base_uri": "https://localhost:8080/",
     "height": 206
    },
    "id": "ZFrp4TRlzmxl",
    "outputId": "a3a3a796-c1e4-40aa-dd50-e9f943cf4350",
    "ExecuteTime": {
     "end_time": "2024-12-18T08:30:15.794947Z",
     "start_time": "2024-12-18T08:30:15.785972Z"
    }
   },
   "outputs": [
    {
     "data": {
      "text/plain": [
       "   Avg_Credit_Limit  Total_Credit_Cards  Total_visits_bank  \\\n",
       "0            100000                   2                  1   \n",
       "1             50000                   3                  0   \n",
       "2             50000                   7                  1   \n",
       "3             30000                   5                  1   \n",
       "4            100000                   6                  0   \n",
       "\n",
       "   Total_visits_online  Total_calls_made  cluster  \n",
       "0                    1                 0        0  \n",
       "1                   10                 9        0  \n",
       "2                    3                 4        2  \n",
       "3                    1                 4        0  \n",
       "4                   12                 3        2  "
      ],
      "text/html": [
       "<div>\n",
       "<style scoped>\n",
       "    .dataframe tbody tr th:only-of-type {\n",
       "        vertical-align: middle;\n",
       "    }\n",
       "\n",
       "    .dataframe tbody tr th {\n",
       "        vertical-align: top;\n",
       "    }\n",
       "\n",
       "    .dataframe thead th {\n",
       "        text-align: right;\n",
       "    }\n",
       "</style>\n",
       "<table border=\"1\" class=\"dataframe\">\n",
       "  <thead>\n",
       "    <tr style=\"text-align: right;\">\n",
       "      <th></th>\n",
       "      <th>Avg_Credit_Limit</th>\n",
       "      <th>Total_Credit_Cards</th>\n",
       "      <th>Total_visits_bank</th>\n",
       "      <th>Total_visits_online</th>\n",
       "      <th>Total_calls_made</th>\n",
       "      <th>cluster</th>\n",
       "    </tr>\n",
       "  </thead>\n",
       "  <tbody>\n",
       "    <tr>\n",
       "      <th>0</th>\n",
       "      <td>100000</td>\n",
       "      <td>2</td>\n",
       "      <td>1</td>\n",
       "      <td>1</td>\n",
       "      <td>0</td>\n",
       "      <td>0</td>\n",
       "    </tr>\n",
       "    <tr>\n",
       "      <th>1</th>\n",
       "      <td>50000</td>\n",
       "      <td>3</td>\n",
       "      <td>0</td>\n",
       "      <td>10</td>\n",
       "      <td>9</td>\n",
       "      <td>0</td>\n",
       "    </tr>\n",
       "    <tr>\n",
       "      <th>2</th>\n",
       "      <td>50000</td>\n",
       "      <td>7</td>\n",
       "      <td>1</td>\n",
       "      <td>3</td>\n",
       "      <td>4</td>\n",
       "      <td>2</td>\n",
       "    </tr>\n",
       "    <tr>\n",
       "      <th>3</th>\n",
       "      <td>30000</td>\n",
       "      <td>5</td>\n",
       "      <td>1</td>\n",
       "      <td>1</td>\n",
       "      <td>4</td>\n",
       "      <td>0</td>\n",
       "    </tr>\n",
       "    <tr>\n",
       "      <th>4</th>\n",
       "      <td>100000</td>\n",
       "      <td>6</td>\n",
       "      <td>0</td>\n",
       "      <td>12</td>\n",
       "      <td>3</td>\n",
       "      <td>2</td>\n",
       "    </tr>\n",
       "  </tbody>\n",
       "</table>\n",
       "</div>"
      ]
     },
     "execution_count": 11,
     "metadata": {},
     "output_type": "execute_result"
    }
   ],
   "execution_count": 11
  },
  {
   "cell_type": "code",
   "source": [
    "fig = plt.figure(figsize=(10, 8))\n",
    "plt.scatter(df2[y_kmeans == 0, 0], df2[y_kmeans == 0, 1], color='red', s=60, label='Cluster 1', edgecolors='black')\n",
    "plt.scatter(df2[y_kmeans == 1, 0], df2[y_kmeans == 1, 1], color='green', s=60, label='Cluster 2', edgecolors='black')\n",
    "plt.scatter(df2[y_kmeans == 2, 0], df2[y_kmeans == 2, 1], color='blue', s=60, label='Cluster 3', edgecolors='black')\n",
    "\n",
    "# cluster centres\n",
    "plt.scatter(km.cluster_centers_[:, 0], km.cluster_centers_[:, 1], color='magenta', s=150, label='Centroid',edgecolors='black')\n",
    "plt.legend()\n",
    "plt.title('Clusters using KMeans')\n",
    "plt.ylabel('Total_Credit_Cards')\n",
    "plt.xlabel('Total_visits_bank')\n",
    "plt.show()"
   ],
   "metadata": {
    "colab": {
     "base_uri": "https://localhost:8080/",
     "height": 718
    },
    "id": "jeuv7-whc3R_",
    "outputId": "322cd4b7-7a8c-4526-bde8-e28d19d1dda6"
   },
   "execution_count": 208,
   "outputs": [
    {
     "output_type": "display_data",
     "data": {
      "text/plain": [
       "<Figure size 1000x800 with 1 Axes>"
      ],
      "image/png": "[encoded data removed]"
     },
     "metadata": {}
    }
   ]
  },
  {
   "cell_type": "code",
   "source": [
    "from sklearn.metrics import silhouette_score\n",
    "silhouette_avg = silhouette_score(df1, df['cluster'])\n",
    "print(f'Silhouette Score: {silhouette_avg}')"
   ],
   "metadata": {
    "colab": {
     "base_uri": "https://localhost:8080/"
    },
    "id": "C9J4nA_kjRc3",
    "outputId": "8bbd36f7-edd0-46f2-dbcf-80cba1e7a1db",
    "ExecuteTime": {
     "end_time": "2024-12-18T08:31:16.369772Z",
     "start_time": "2024-12-18T08:31:16.351947Z"
    }
   },
   "outputs": [
    {
     "name": "stdout",
     "output_type": "stream",
     "text": [
      "Silhouette Score: 0.4129828696029572\n"
     ]
    }
   ],
   "execution_count": 13
  },
  {
   "cell_type": "code",
   "source": [
    "dbscan = DBSCAN(eps=0.2, min_samples=5)\n",
    "dbscan_labels = dbscan.fit_predict(df2)"
   ],
   "metadata": {
    "id": "AstSkA92jTOP",
    "ExecuteTime": {
     "end_time": "2024-12-18T08:31:22.380747Z",
     "start_time": "2024-12-18T08:31:22.369476Z"
    }
   },
   "outputs": [],
   "execution_count": 14
  },
  {
   "cell_type": "code",
   "source": [
    "df['dbscan_cluster'] = dbscan_labels"
   ],
   "metadata": {
    "id": "G5JrkDtk1bFo",
    "ExecuteTime": {
     "end_time": "2024-12-18T08:31:23.971581Z",
     "start_time": "2024-12-18T08:31:23.965030Z"
    }
   },
   "outputs": [],
   "execution_count": 15
  },
  {
   "cell_type": "code",
   "source": [
    "# Check for the number of clusters (excluding noise points, which are labeled as -1)\n",
    "n_clusters_dbscan = len(set(dbscan_labels)) - (1 if -1 in dbscan_labels else 0)\n",
    "n_noise_dbscan = list(dbscan_labels).count(-1)\n",
    "print(f\"DBSCAN found {n_clusters_dbscan} clusters and {n_noise_dbscan} noise points.\")"
   ],
   "metadata": {
    "colab": {
     "base_uri": "https://localhost:8080/"
    },
    "id": "OomnaH8c1d75",
    "outputId": "b95a54ff-031b-4243-f3c1-b5717fbab166",
    "ExecuteTime": {
     "end_time": "2024-12-18T08:31:25.512077Z",
     "start_time": "2024-12-18T08:31:25.507114Z"
    }
   },
   "outputs": [
    {
     "name": "stdout",
     "output_type": "stream",
     "text": [
      "DBSCAN found 2 clusters and 0 noise points.\n"
     ]
    }
   ],
   "execution_count": 16
  },
  {
   "cell_type": "code",
   "source": [
    "if n_clusters_dbscan > 1:\n",
    "    silhouette_avg_dbscan = silhouette_score(df2, dbscan_labels)\n",
    "    print(f\"Silhouette Score for DBSCAN: {silhouette_avg_dbscan}\")\n",
    "else:\n",
    "    print(\"Silhouette Score not calculated (less than 2 clusters).\")"
   ],
   "metadata": {
    "colab": {
     "base_uri": "https://localhost:8080/"
    },
    "id": "CAMyxWwa1oFI",
    "outputId": "52b4901e-038c-476a-9f35-80b94682ec45",
    "ExecuteTime": {
     "end_time": "2024-12-18T08:31:27.535001Z",
     "start_time": "2024-12-18T08:31:27.521849Z"
    }
   },
   "outputs": [
    {
     "name": "stdout",
     "output_type": "stream",
     "text": [
      "Silhouette Score for DBSCAN: 0.46279309916966765\n"
     ]
    }
   ],
   "execution_count": 17
  },
  {
   "cell_type": "code",
   "source": [
    "plt.figure(figsize=(10, 8))\n",
    "unique_labels = set(dbscan_labels)\n",
    "colors = plt.cm.Spectral(np.linspace(0, 1, len(unique_labels)))\n",
    "for label, color in zip(unique_labels, colors):\n",
    "    if label == -1:  # Noise points\n",
    "        color = 'k'  # Black for noise\n",
    "    mask = dbscan_labels == label\n",
    "    plt.scatter(df2[mask, 0], df2[mask, 1], s=60, c=[color], label=f'Cluster {label}' if label != -1 else 'Noise', edgecolors='black')\n",
    "plt.title('Clusters Identified by DBSCAN')\n",
    "plt.xlabel('Total Credit Cards')\n",
    "plt.ylabel('Total Visits to Bank')\n",
    "plt.legend()\n",
    "plt.show()"
   ],
   "metadata": {
    "colab": {
     "base_uri": "https://localhost:8080/",
     "height": 718
    },
    "id": "MiyVyBrR1rXp",
    "outputId": "99e25a6c-f361-4318-9ec3-7e90c8799587",
    "ExecuteTime": {
     "end_time": "2024-12-18T08:31:30.341439Z",
     "start_time": "2024-12-18T08:31:30.140189Z"
    }
   },
   "outputs": [
    {
     "data": {
      "text/plain": [
       "<Figure size 1000x800 with 1 Axes>"
      ],
      "image/png": "[encoded data removed]"
     },
     "metadata": {},
     "output_type": "display_data"
    }
   ],
   "execution_count": 18
  }
 ]
}
